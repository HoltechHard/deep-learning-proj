{
 "cells": [
  {
   "cell_type": "code",
   "execution_count": 1,
   "metadata": {
    "scrolled": true
   },
   "outputs": [
    {
     "name": "stdout",
     "output_type": "stream",
     "text": [
      "2.0.0\n"
     ]
    }
   ],
   "source": [
    "import tensorflow as tf\n",
    "print(tf.__version__)"
   ]
  },
  {
   "cell_type": "markdown",
   "metadata": {},
   "source": [
    "# Validation, regularisation and callbacks"
   ]
  },
  {
   "cell_type": "markdown",
   "metadata": {},
   "source": [
    " ## Coding tutorials\n",
    " #### [1. Validation sets](#coding_tutorial_1)\n",
    " #### [2. Model regularisation](#coding_tutorial_2)\n",
    " #### [3. Introduction to callbacks](#coding_tutorial_3)\n",
    " #### [4. Early stopping / patience](#coding_tutorial_4)"
   ]
  },
  {
   "cell_type": "markdown",
   "metadata": {},
   "source": [
    "***\n",
    "<a id=\"coding_tutorial_1\"></a>\n",
    "## Validation sets"
   ]
  },
  {
   "cell_type": "markdown",
   "metadata": {},
   "source": [
    "#### Load the data"
   ]
  },
  {
   "cell_type": "code",
   "execution_count": 2,
   "metadata": {},
   "outputs": [
    {
     "name": "stdout",
     "output_type": "stream",
     "text": [
      ".. _diabetes_dataset:\n",
      "\n",
      "Diabetes dataset\n",
      "----------------\n",
      "\n",
      "Ten baseline variables, age, sex, body mass index, average blood\n",
      "pressure, and six blood serum measurements were obtained for each of n =\n",
      "442 diabetes patients, as well as the response of interest, a\n",
      "quantitative measure of disease progression one year after baseline.\n",
      "\n",
      "**Data Set Characteristics:**\n",
      "\n",
      "  :Number of Instances: 442\n",
      "\n",
      "  :Number of Attributes: First 10 columns are numeric predictive values\n",
      "\n",
      "  :Target: Column 11 is a quantitative measure of disease progression one year after baseline\n",
      "\n",
      "  :Attribute Information:\n",
      "      - Age\n",
      "      - Sex\n",
      "      - Body mass index\n",
      "      - Average blood pressure\n",
      "      - S1\n",
      "      - S2\n",
      "      - S3\n",
      "      - S4\n",
      "      - S5\n",
      "      - S6\n",
      "\n",
      "Note: Each of these 10 feature variables have been mean centered and scaled by the standard deviation times `n_samples` (i.e. the sum of squares of each column totals 1).\n",
      "\n",
      "Source URL:\n",
      "http://www4.stat.ncsu.edu/~boos/var.select/diabetes.html\n",
      "\n",
      "For more information see:\n",
      "Bradley Efron, Trevor Hastie, Iain Johnstone and Robert Tibshirani (2004) \"Least Angle Regression,\" Annals of Statistics (with discussion), 407-499.\n",
      "(http://web.stanford.edu/~hastie/Papers/LARS/LeastAngle_2002.pdf)\n"
     ]
    }
   ],
   "source": [
    "# Load the diabetes dataset\n",
    "from sklearn.datasets import load_diabetes\n",
    "diabetes_dataset = load_diabetes()\n",
    "print(diabetes_dataset['DESCR'])"
   ]
  },
  {
   "cell_type": "code",
   "execution_count": 3,
   "metadata": {},
   "outputs": [
    {
     "name": "stdout",
     "output_type": "stream",
     "text": [
      "dict_keys(['data', 'target', 'DESCR', 'feature_names', 'data_filename', 'target_filename'])\n"
     ]
    }
   ],
   "source": [
    "# Save the input and target variables\n",
    "print(diabetes_dataset.keys())\n",
    "data = diabetes_dataset['data']\n",
    "targets = diabetes_dataset['target']"
   ]
  },
  {
   "cell_type": "code",
   "execution_count": 4,
   "metadata": {},
   "outputs": [
    {
     "data": {
      "text/plain": [
       "array([-1.47194752e-02, -1.00165882e+00, -1.44579915e-01,  6.99512942e-01,\n",
       "       -2.22496178e-01, -7.15965848e-01, -1.83538046e-01, -1.15749134e+00,\n",
       "       -5.47147277e-01,  2.05006151e+00, -6.64021672e-01, -1.07957508e+00,\n",
       "        3.48889755e-01,  4.26806019e-01, -4.43258925e-01,  2.45001404e-01,\n",
       "        1.80071184e-01, -1.05621783e-01, -7.15965848e-01,  2.06043272e-01,\n",
       "       -1.09256112e+00, -1.33929596e+00, -1.09256112e+00,  1.20596866e+00,\n",
       "        4.13819975e-01,  6.47568766e-01, -1.96524090e-01, -8.71798376e-01,\n",
       "       -2.74440354e-01,  1.69943833e+00, -3.00412442e-01, -1.20943552e+00,\n",
       "        2.45262887e+00, -8.45826288e-01, -1.13151925e+00, -6.51035629e-01,\n",
       "        1.46568953e+00,  1.60853602e+00,  1.29687096e+00, -8.06868156e-01,\n",
       "       -6.77007716e-01, -1.26137969e+00, -1.18346343e+00, -7.80896068e-01,\n",
       "        1.38777327e+00, -1.28735178e+00,  4.91736239e-01, -1.31593871e-01,\n",
       "       -1.00165882e+00, -1.31593871e-01,  3.72247006e-02,  9.46247777e-01,\n",
       "       -1.20943552e+00, -6.25063541e-01,  3.87847887e-01, -3.13398486e-01,\n",
       "       -1.30033783e+00, -1.49512849e+00,  2.32015360e-01,  2.32015360e-01,\n",
       "       -1.18346343e+00, -1.05621783e-01, -1.30033783e+00, -3.13398486e-01,\n",
       "       -1.05360299e+00,  1.41113052e-01, -2.77055191e-02, -7.15965848e-01,\n",
       "        1.02154920e-01,  3.35903711e-01, -1.35228200e+00,  1.53061975e+00,\n",
       "        6.47568766e-01, -5.34161233e-01, -8.71798376e-01, -1.43019827e+00,\n",
       "        2.32015360e-01,  6.21596678e-01,  1.29687096e+00, -5.08189145e-01,\n",
       "       -1.18607827e-01, -1.31332387e+00, -1.30033783e+00,  7.51457118e-01,\n",
       "       -1.13151925e+00, -1.44579915e-01, -1.26137969e+00, -2.35482222e-01,\n",
       "       -1.43019827e+00, -5.34161233e-01, -7.02979804e-01,  1.54099096e-01,\n",
       "       -1.35228200e+00, -7.28951892e-01, -8.06868156e-01,  1.28127008e-01,\n",
       "       -2.77055191e-02,  1.64749415e+00, -7.80896068e-01, -8.97770464e-01,\n",
       "       -3.13398486e-01, -6.51035629e-01,  1.94617316e+00,  5.95624590e-01,\n",
       "       -7.41937936e-01, -1.28735178e+00, -2.35482222e-01, -1.05621783e-01,\n",
       "        1.03715008e+00, -9.23742551e-01, -6.25063541e-01, -1.20943552e+00,\n",
       "        1.21895470e+00,  1.88124294e+00,  1.37478723e+00,  9.98191953e-01,\n",
       "        1.59554997e+00,  1.67346624e+00,  3.48889755e-01,  6.21596678e-01,\n",
       "        6.21596678e-01,  2.70973492e-01,  3.61875799e-01, -8.84784420e-01,\n",
       "       -4.04300794e-01,  1.15140964e-01, -6.89993760e-01, -5.60133321e-01,\n",
       "       -4.82217057e-01,  1.50464767e+00,  1.58256393e+00,  7.61828325e-02,\n",
       "       -5.86105409e-01, -8.97770464e-01, -6.38049585e-01,  1.55659184e+00,\n",
       "       -8.71798376e-01,  1.66048019e+00,  2.38769865e+00,  1.67346624e+00,\n",
       "       -4.43258925e-01,  2.14096382e+00,  1.07610822e+00, -1.19644947e+00,\n",
       "        2.83959536e-01,  1.38777327e+00,  3.35903711e-01, -3.13398486e-01,\n",
       "       -7.28951892e-01, -3.39370574e-01,  1.76436855e+00, -8.32840244e-01,\n",
       "        1.81631272e+00, -1.05360299e+00,  5.82638546e-01,  4.39792063e-01,\n",
       "       -1.65096101e+00, -8.84784420e-01, -7.28951892e-01,  5.56666458e-01,\n",
       "       -1.28735178e+00,  8.42359425e-01,  2.57987448e-01, -2.74440354e-01,\n",
       "        8.03401293e-01, -1.20943552e+00, -1.06658903e+00,  8.81317557e-01,\n",
       "        1.50464767e+00, -1.73343121e-03, -1.36526805e+00, -1.01464486e+00,\n",
       "        1.85527085e+00, -6.64021672e-01, -1.47194752e-02, -3.26384530e-01,\n",
       "        1.10208030e+00,  9.46247777e-01, -9.23742551e-01, -1.47194752e-02,\n",
       "       -5.86105409e-01, -1.14450530e+00, -1.83538046e-01,  4.26806019e-01,\n",
       "        1.46568953e+00, -6.64021672e-01, -1.96524090e-01, -1.18607827e-01,\n",
       "       -1.44579915e-01, -9.49714639e-01,  1.81631272e+00,  3.35903711e-01,\n",
       "       -7.93882112e-01, -4.69231013e-01, -8.58812332e-01, -3.91314750e-01,\n",
       "       -1.04061695e+00, -3.00412442e-01, -1.31593871e-01, -8.06868156e-01,\n",
       "        7.61828325e-02, -1.46915640e+00,  5.69652502e-01,  9.07289645e-01,\n",
       "        1.62152206e+00, -6.89993760e-01,  5.69652502e-01,  6.47568766e-01,\n",
       "        3.72247006e-02, -9.75686727e-01,  5.04722283e-01, -1.06658903e+00,\n",
       "       -1.02763090e+00, -1.33929596e+00, -1.13151925e+00,  1.43971745e+00,\n",
       "        1.24492679e+00,  1.86825690e+00,  8.03401293e-01,  4.26806019e-01,\n",
       "       -9.62700683e-01, -7.67910024e-01,  1.29687096e+00, -2.77055191e-02,\n",
       "       -9.75686727e-01,  7.25485030e-01, -9.75686727e-01, -5.73119365e-01,\n",
       "        1.02154920e-01, -1.28735178e+00,  8.81317557e-01,  2.42386567e-02,\n",
       "        1.38777327e+00, -8.06868156e-01,  1.21895470e+00, -3.65342662e-01,\n",
       "       -1.10554717e+00, -1.04061695e+00,  1.36180118e+00,  1.42673140e+00,\n",
       "        1.59554997e+00,  3.22917667e-01, -1.05360299e+00, -1.36526805e+00,\n",
       "        4.52778107e-01, -3.52356618e-01, -9.62700683e-01, -1.31332387e+00,\n",
       "        1.37478723e+00,  8.16387337e-01,  1.95915920e+00,  1.17999657e+00,\n",
       "       -7.93882112e-01, -2.77055191e-02,  2.05006151e+00,  1.12526127e-02,\n",
       "        2.51755909e+00, -1.15749134e+00, -8.19854200e-01, -1.32630991e+00,\n",
       "       -1.46915640e+00, -6.38049585e-01,  2.02408942e+00, -4.69231013e-01,\n",
       "       -9.26357388e-02, -1.01464486e+00, -1.39124013e+00, -4.82217057e-01,\n",
       "        1.45270349e+00, -8.45826288e-01,  6.47568766e-01, -3.26384530e-01,\n",
       "        3.87847887e-01,  1.15402448e+00, -1.11853321e+00, -7.54923980e-01,\n",
       "        1.69943833e+00, -1.14450530e+00, -6.51035629e-01,  6.21596678e-01,\n",
       "        1.46568953e+00, -7.54923980e-01,  1.01117800e+00,  3.74861843e-01,\n",
       "        5.02107446e-02,  1.05013613e+00, -1.19644947e+00,  8.68331513e-01,\n",
       "       -9.36728595e-01, -1.09256112e+00,  2.33575448e+00,  1.24492679e+00,\n",
       "       -8.84784420e-01,  6.21596678e-01, -1.26137969e+00, -8.71798376e-01,\n",
       "       -8.19854200e-01, -1.57304475e+00, -3.00412442e-01, -8.97770464e-01,\n",
       "        1.59554997e+00, -1.13151925e+00,  5.95624590e-01,  1.08909426e+00,\n",
       "        1.30985701e+00, -3.65342662e-01, -1.40422618e+00,  2.57987448e-01,\n",
       "       -4.95203101e-01, -1.31593871e-01, -5.60133321e-01,  3.61875799e-01,\n",
       "       -1.05621783e-01,  1.41113052e-01, -6.66636509e-02, -7.15965848e-01,\n",
       "        8.81317557e-01,  4.91736239e-01, -5.60133321e-01,  5.04722283e-01,\n",
       "       -3.91314750e-01,  1.01117800e+00,  1.16701052e+00,  1.24492679e+00,\n",
       "        1.25791283e+00,  5.17708327e-01, -2.74440354e-01,  1.10208030e+00,\n",
       "       -9.62700683e-01, -2.22496178e-01,  1.19298261e+00,  6.08610634e-01,\n",
       "        1.53061975e+00,  1.54099096e-01, -1.04061695e+00, -7.28951892e-01,\n",
       "        1.99811734e+00, -7.93882112e-01,  8.03401293e-01, -7.41937936e-01,\n",
       "        8.29373381e-01,  1.43971745e+00,  3.35903711e-01, -5.08189145e-01,\n",
       "        6.21596678e-01, -1.70552003e-01, -1.70552003e-01, -8.32840244e-01,\n",
       "       -5.36776070e-02, -8.32840244e-01,  1.17999657e+00, -1.05360299e+00,\n",
       "       -9.75686727e-01, -5.60133321e-01,  1.55659184e+00, -1.19644947e+00,\n",
       "       -1.27436574e+00,  8.94303601e-01, -8.06868156e-01,  2.06304756e+00,\n",
       "        1.67346624e+00,  3.87847887e-01,  2.19290800e+00, -1.22242156e+00,\n",
       "        1.42673140e+00,  6.99512942e-01,  1.05013613e+00,  1.16701052e+00,\n",
       "       -3.78328706e-01,  1.93057228e-01, -1.15749134e+00,  5.82638546e-01,\n",
       "       -1.05360299e+00,  2.06043272e-01, -1.57565959e-01,  8.42359425e-01,\n",
       "       -4.04300794e-01,  1.07610822e+00,  1.20596866e+00, -1.45617035e+00,\n",
       "       -1.30033783e+00, -6.25063541e-01, -2.61454310e-01, -8.32840244e-01,\n",
       "       -1.07957508e+00,  8.68331513e-01, -1.04061695e+00,  6.34582722e-01,\n",
       "       -5.47147277e-01, -1.31332387e+00,  1.62152206e+00, -1.15749134e+00,\n",
       "       -4.43258925e-01, -1.07957508e+00,  1.56957789e+00,  1.37478723e+00,\n",
       "       -1.41721222e+00,  5.95624590e-01,  1.16701052e+00,  1.03715008e+00,\n",
       "        2.96945580e-01, -7.67910024e-01,  2.06043272e-01,  1.59554997e+00,\n",
       "        1.82929877e+00,  1.67346624e+00, -1.04061695e+00, -1.57565959e-01,\n",
       "        4.78750195e-01,  3.74861843e-01,  7.38471074e-01, -2.09510134e-01,\n",
       "        1.41374536e+00, -5.08189145e-01, -2.74440354e-01,  2.83959536e-01,\n",
       "        1.36180118e+00, -1.26137969e+00, -8.84784420e-01, -1.43019827e+00,\n",
       "       -7.96496949e-02,  7.77429206e-01,  1.05013613e+00, -7.93882112e-01,\n",
       "       -5.34161233e-01, -1.73343121e-03, -4.17286837e-01, -1.10554717e+00,\n",
       "        2.05006151e+00, -7.54923980e-01,  4.00833931e-01, -1.11853321e+00,\n",
       "        2.70973492e-01, -1.04061695e+00, -1.33929596e+00, -1.14450530e+00,\n",
       "       -1.35228200e+00,  3.35903711e-01, -6.25063541e-01, -2.61454310e-01,\n",
       "        8.81317557e-01, -1.23540761e+00])"
      ]
     },
     "execution_count": 4,
     "metadata": {},
     "output_type": "execute_result"
    }
   ],
   "source": [
    "# Normalise the target data (this will make clearer training curves)\n",
    "targets = (targets - targets.mean())/targets.std()\n",
    "targets"
   ]
  },
  {
   "cell_type": "code",
   "execution_count": 5,
   "metadata": {},
   "outputs": [
    {
     "name": "stdout",
     "output_type": "stream",
     "text": [
      "(397, 10)\n",
      "(397,)\n",
      "(45, 10)\n",
      "(45,)\n"
     ]
    }
   ],
   "source": [
    "# Split the data into train and test sets\n",
    "from sklearn.model_selection import train_test_split\n",
    "train_data, test_data, train_targets, test_targets = train_test_split(data, targets, test_size = 0.1)\n",
    "print(train_data.shape)\n",
    "print(train_targets.shape)\n",
    "print(test_data.shape)\n",
    "print(test_targets.shape)"
   ]
  },
  {
   "cell_type": "markdown",
   "metadata": {},
   "source": [
    "#### Train a feedforward neural network model"
   ]
  },
  {
   "cell_type": "code",
   "execution_count": 6,
   "metadata": {},
   "outputs": [],
   "source": [
    "# Build the model\n",
    "from tensorflow.keras.models import Sequential\n",
    "from tensorflow.keras.layers import Dense\n",
    "\n",
    "def get_model():\n",
    "    model = Sequential([\n",
    "        Dense(units = 128, activation = 'relu', input_shape = (train_data.shape[1], )),\n",
    "        Dense(units = 64, activation = 'relu'), \n",
    "        Dense(units = 16, activation = 'relu'), \n",
    "        Dense(units = 1)\n",
    "    ])\n",
    "    return model\n",
    "\n",
    "#define model\n",
    "model = get_model()"
   ]
  },
  {
   "cell_type": "code",
   "execution_count": 7,
   "metadata": {},
   "outputs": [
    {
     "name": "stdout",
     "output_type": "stream",
     "text": [
      "Model: \"sequential\"\n",
      "_________________________________________________________________\n",
      "Layer (type)                 Output Shape              Param #   \n",
      "=================================================================\n",
      "dense (Dense)                (None, 128)               1408      \n",
      "_________________________________________________________________\n",
      "dense_1 (Dense)              (None, 64)                8256      \n",
      "_________________________________________________________________\n",
      "dense_2 (Dense)              (None, 16)                1040      \n",
      "_________________________________________________________________\n",
      "dense_3 (Dense)              (None, 1)                 17        \n",
      "=================================================================\n",
      "Total params: 10,721\n",
      "Trainable params: 10,721\n",
      "Non-trainable params: 0\n",
      "_________________________________________________________________\n"
     ]
    }
   ],
   "source": [
    "# Print the model summary\n",
    "model.summary()\n"
   ]
  },
  {
   "cell_type": "code",
   "execution_count": 8,
   "metadata": {},
   "outputs": [],
   "source": [
    "# Compile the model\n",
    "model.compile(optimizer = 'adam', loss = 'mse', metrics = ['mae'])\n"
   ]
  },
  {
   "cell_type": "code",
   "execution_count": 9,
   "metadata": {},
   "outputs": [
    {
     "name": "stdout",
     "output_type": "stream",
     "text": [
      "Train on 337 samples, validate on 60 samples\n",
      "Epoch 1/100\n",
      "337/337 - 1s - loss: 0.9673 - mae: 0.8467 - val_loss: 1.0552 - val_mae: 0.8525\n",
      "Epoch 2/100\n",
      "337/337 - 0s - loss: 0.9277 - mae: 0.8286 - val_loss: 1.0190 - val_mae: 0.8364\n",
      "Epoch 3/100\n",
      "337/337 - 0s - loss: 0.8774 - mae: 0.8051 - val_loss: 0.9760 - val_mae: 0.8167\n",
      "Epoch 4/100\n",
      "337/337 - 0s - loss: 0.8146 - mae: 0.7745 - val_loss: 0.9209 - val_mae: 0.7921\n",
      "Epoch 5/100\n",
      "337/337 - 0s - loss: 0.7413 - mae: 0.7365 - val_loss: 0.8640 - val_mae: 0.7630\n",
      "Epoch 6/100\n",
      "337/337 - 0s - loss: 0.6613 - mae: 0.6880 - val_loss: 0.8129 - val_mae: 0.7408\n",
      "Epoch 7/100\n",
      "337/337 - 0s - loss: 0.5940 - mae: 0.6478 - val_loss: 0.7609 - val_mae: 0.7212\n",
      "Epoch 8/100\n",
      "337/337 - 0s - loss: 0.5426 - mae: 0.6159 - val_loss: 0.7386 - val_mae: 0.6963\n",
      "Epoch 9/100\n",
      "337/337 - 0s - loss: 0.5092 - mae: 0.5876 - val_loss: 0.7190 - val_mae: 0.6788\n",
      "Epoch 10/100\n",
      "337/337 - 0s - loss: 0.4904 - mae: 0.5726 - val_loss: 0.7025 - val_mae: 0.6651\n",
      "Epoch 11/100\n",
      "337/337 - 0s - loss: 0.4769 - mae: 0.5634 - val_loss: 0.6798 - val_mae: 0.6494\n",
      "Epoch 12/100\n",
      "337/337 - 0s - loss: 0.4659 - mae: 0.5579 - val_loss: 0.6623 - val_mae: 0.6384\n",
      "Epoch 13/100\n",
      "337/337 - 0s - loss: 0.4528 - mae: 0.5497 - val_loss: 0.6694 - val_mae: 0.6397\n",
      "Epoch 14/100\n",
      "337/337 - 0s - loss: 0.4546 - mae: 0.5468 - val_loss: 0.6540 - val_mae: 0.6300\n",
      "Epoch 15/100\n",
      "337/337 - 0s - loss: 0.4569 - mae: 0.5542 - val_loss: 0.6536 - val_mae: 0.6287\n",
      "Epoch 16/100\n",
      "337/337 - 0s - loss: 0.4498 - mae: 0.5424 - val_loss: 0.6697 - val_mae: 0.6408\n",
      "Epoch 17/100\n",
      "337/337 - 0s - loss: 0.4458 - mae: 0.5418 - val_loss: 0.6521 - val_mae: 0.6280\n",
      "Epoch 18/100\n",
      "337/337 - 0s - loss: 0.4460 - mae: 0.5368 - val_loss: 0.6749 - val_mae: 0.6454\n",
      "Epoch 19/100\n",
      "337/337 - 0s - loss: 0.4391 - mae: 0.5318 - val_loss: 0.6514 - val_mae: 0.6300\n",
      "Epoch 20/100\n",
      "337/337 - 0s - loss: 0.4416 - mae: 0.5413 - val_loss: 0.6502 - val_mae: 0.6296\n",
      "Epoch 21/100\n",
      "337/337 - 0s - loss: 0.4339 - mae: 0.5331 - val_loss: 0.6692 - val_mae: 0.6439\n",
      "Epoch 22/100\n",
      "337/337 - 0s - loss: 0.4426 - mae: 0.5347 - val_loss: 0.6507 - val_mae: 0.6307\n",
      "Epoch 23/100\n",
      "337/337 - 0s - loss: 0.4298 - mae: 0.5328 - val_loss: 0.6431 - val_mae: 0.6296\n",
      "Epoch 24/100\n",
      "337/337 - 0s - loss: 0.4289 - mae: 0.5330 - val_loss: 0.6534 - val_mae: 0.6316\n",
      "Epoch 25/100\n",
      "337/337 - 0s - loss: 0.4289 - mae: 0.5275 - val_loss: 0.6515 - val_mae: 0.6306\n",
      "Epoch 26/100\n",
      "337/337 - 0s - loss: 0.4250 - mae: 0.5281 - val_loss: 0.6387 - val_mae: 0.6272\n",
      "Epoch 27/100\n",
      "337/337 - 0s - loss: 0.4254 - mae: 0.5301 - val_loss: 0.6399 - val_mae: 0.6260\n",
      "Epoch 28/100\n",
      "337/337 - 0s - loss: 0.4233 - mae: 0.5261 - val_loss: 0.6456 - val_mae: 0.6291\n",
      "Epoch 29/100\n",
      "337/337 - 0s - loss: 0.4210 - mae: 0.5216 - val_loss: 0.6495 - val_mae: 0.6317\n",
      "Epoch 30/100\n",
      "337/337 - 0s - loss: 0.4256 - mae: 0.5214 - val_loss: 0.6459 - val_mae: 0.6282\n",
      "Epoch 31/100\n",
      "337/337 - 0s - loss: 0.4169 - mae: 0.5205 - val_loss: 0.6442 - val_mae: 0.6286\n",
      "Epoch 32/100\n",
      "337/337 - 0s - loss: 0.4159 - mae: 0.5219 - val_loss: 0.6446 - val_mae: 0.6278\n",
      "Epoch 33/100\n",
      "337/337 - 0s - loss: 0.4157 - mae: 0.5226 - val_loss: 0.6483 - val_mae: 0.6289\n",
      "Epoch 34/100\n",
      "337/337 - 0s - loss: 0.4109 - mae: 0.5181 - val_loss: 0.6484 - val_mae: 0.6274\n",
      "Epoch 35/100\n",
      "337/337 - 0s - loss: 0.4096 - mae: 0.5167 - val_loss: 0.6430 - val_mae: 0.6273\n",
      "Epoch 36/100\n",
      "337/337 - 0s - loss: 0.4083 - mae: 0.5162 - val_loss: 0.6459 - val_mae: 0.6282\n",
      "Epoch 37/100\n",
      "337/337 - 0s - loss: 0.4081 - mae: 0.5139 - val_loss: 0.6530 - val_mae: 0.6308\n",
      "Epoch 38/100\n",
      "337/337 - 0s - loss: 0.4088 - mae: 0.5145 - val_loss: 0.6522 - val_mae: 0.6338\n",
      "Epoch 39/100\n",
      "337/337 - 0s - loss: 0.4083 - mae: 0.5162 - val_loss: 0.6683 - val_mae: 0.6392\n",
      "Epoch 40/100\n",
      "337/337 - 0s - loss: 0.4037 - mae: 0.5105 - val_loss: 0.6519 - val_mae: 0.6329\n",
      "Epoch 41/100\n",
      "337/337 - 0s - loss: 0.4010 - mae: 0.5108 - val_loss: 0.6450 - val_mae: 0.6282\n",
      "Epoch 42/100\n",
      "337/337 - 0s - loss: 0.4000 - mae: 0.5106 - val_loss: 0.6456 - val_mae: 0.6278\n",
      "Epoch 43/100\n",
      "337/337 - 0s - loss: 0.3970 - mae: 0.5065 - val_loss: 0.6443 - val_mae: 0.6291\n",
      "Epoch 44/100\n",
      "337/337 - 0s - loss: 0.3953 - mae: 0.5058 - val_loss: 0.6455 - val_mae: 0.6318\n",
      "Epoch 45/100\n",
      "337/337 - 0s - loss: 0.3940 - mae: 0.5038 - val_loss: 0.6472 - val_mae: 0.6325\n",
      "Epoch 46/100\n",
      "337/337 - 0s - loss: 0.3929 - mae: 0.5047 - val_loss: 0.6451 - val_mae: 0.6329\n",
      "Epoch 47/100\n",
      "337/337 - 0s - loss: 0.3956 - mae: 0.5029 - val_loss: 0.6519 - val_mae: 0.6313\n",
      "Epoch 48/100\n",
      "337/337 - 0s - loss: 0.3899 - mae: 0.5017 - val_loss: 0.6505 - val_mae: 0.6340\n",
      "Epoch 49/100\n",
      "337/337 - 0s - loss: 0.3871 - mae: 0.4983 - val_loss: 0.6686 - val_mae: 0.6382\n",
      "Epoch 50/100\n",
      "337/337 - 0s - loss: 0.3864 - mae: 0.4962 - val_loss: 0.6632 - val_mae: 0.6392\n",
      "Epoch 51/100\n",
      "337/337 - 0s - loss: 0.3834 - mae: 0.4941 - val_loss: 0.6780 - val_mae: 0.6419\n",
      "Epoch 52/100\n",
      "337/337 - 0s - loss: 0.3835 - mae: 0.4930 - val_loss: 0.6630 - val_mae: 0.6362\n",
      "Epoch 53/100\n",
      "337/337 - 0s - loss: 0.3834 - mae: 0.4937 - val_loss: 0.6640 - val_mae: 0.6352\n",
      "Epoch 54/100\n",
      "337/337 - 0s - loss: 0.3819 - mae: 0.4931 - val_loss: 0.6624 - val_mae: 0.6380\n",
      "Epoch 55/100\n",
      "337/337 - 0s - loss: 0.3821 - mae: 0.4882 - val_loss: 0.6725 - val_mae: 0.6373\n",
      "Epoch 56/100\n",
      "337/337 - 0s - loss: 0.3777 - mae: 0.4881 - val_loss: 0.6615 - val_mae: 0.6395\n",
      "Epoch 57/100\n",
      "337/337 - 0s - loss: 0.3797 - mae: 0.4877 - val_loss: 0.6778 - val_mae: 0.6390\n",
      "Epoch 58/100\n",
      "337/337 - 0s - loss: 0.3728 - mae: 0.4838 - val_loss: 0.6694 - val_mae: 0.6456\n",
      "Epoch 59/100\n",
      "337/337 - 0s - loss: 0.3730 - mae: 0.4875 - val_loss: 0.6702 - val_mae: 0.6360\n",
      "Epoch 60/100\n",
      "337/337 - 0s - loss: 0.3695 - mae: 0.4811 - val_loss: 0.6651 - val_mae: 0.6415\n",
      "Epoch 61/100\n",
      "337/337 - 0s - loss: 0.3838 - mae: 0.4927 - val_loss: 0.6719 - val_mae: 0.6441\n",
      "Epoch 62/100\n",
      "337/337 - 0s - loss: 0.3828 - mae: 0.4895 - val_loss: 0.6946 - val_mae: 0.6448\n",
      "Epoch 63/100\n",
      "337/337 - 0s - loss: 0.3680 - mae: 0.4796 - val_loss: 0.6934 - val_mae: 0.6675\n",
      "Epoch 64/100\n",
      "337/337 - 0s - loss: 0.3847 - mae: 0.4927 - val_loss: 0.6893 - val_mae: 0.6466\n",
      "Epoch 65/100\n",
      "337/337 - 0s - loss: 0.3668 - mae: 0.4799 - val_loss: 0.6724 - val_mae: 0.6471\n",
      "Epoch 66/100\n",
      "337/337 - 0s - loss: 0.3740 - mae: 0.4923 - val_loss: 0.6698 - val_mae: 0.6442\n",
      "Epoch 67/100\n",
      "337/337 - 0s - loss: 0.3591 - mae: 0.4739 - val_loss: 0.6942 - val_mae: 0.6422\n",
      "Epoch 68/100\n",
      "337/337 - 0s - loss: 0.3641 - mae: 0.4766 - val_loss: 0.6779 - val_mae: 0.6515\n",
      "Epoch 69/100\n",
      "337/337 - 0s - loss: 0.3671 - mae: 0.4812 - val_loss: 0.6828 - val_mae: 0.6482\n",
      "Epoch 70/100\n",
      "337/337 - 0s - loss: 0.3585 - mae: 0.4730 - val_loss: 0.6955 - val_mae: 0.6482\n",
      "Epoch 71/100\n",
      "337/337 - 0s - loss: 0.3573 - mae: 0.4703 - val_loss: 0.6925 - val_mae: 0.6455\n",
      "Epoch 72/100\n",
      "337/337 - 0s - loss: 0.3566 - mae: 0.4734 - val_loss: 0.6825 - val_mae: 0.6504\n",
      "Epoch 73/100\n",
      "337/337 - 0s - loss: 0.3593 - mae: 0.4736 - val_loss: 0.6905 - val_mae: 0.6457\n",
      "Epoch 74/100\n",
      "337/337 - 0s - loss: 0.3506 - mae: 0.4688 - val_loss: 0.6861 - val_mae: 0.6541\n",
      "Epoch 75/100\n",
      "337/337 - 0s - loss: 0.3524 - mae: 0.4684 - val_loss: 0.6875 - val_mae: 0.6439\n",
      "Epoch 76/100\n",
      "337/337 - 0s - loss: 0.3524 - mae: 0.4671 - val_loss: 0.6814 - val_mae: 0.6444\n",
      "Epoch 77/100\n",
      "337/337 - 0s - loss: 0.3452 - mae: 0.4635 - val_loss: 0.6891 - val_mae: 0.6538\n",
      "Epoch 78/100\n",
      "337/337 - 0s - loss: 0.3484 - mae: 0.4669 - val_loss: 0.6906 - val_mae: 0.6477\n",
      "Epoch 79/100\n",
      "337/337 - 0s - loss: 0.3436 - mae: 0.4607 - val_loss: 0.6921 - val_mae: 0.6482\n",
      "Epoch 80/100\n",
      "337/337 - 0s - loss: 0.3441 - mae: 0.4579 - val_loss: 0.6876 - val_mae: 0.6496\n",
      "Epoch 81/100\n",
      "337/337 - 0s - loss: 0.3469 - mae: 0.4641 - val_loss: 0.6853 - val_mae: 0.6492\n",
      "Epoch 82/100\n",
      "337/337 - 0s - loss: 0.3414 - mae: 0.4571 - val_loss: 0.6913 - val_mae: 0.6439\n",
      "Epoch 83/100\n",
      "337/337 - 0s - loss: 0.3426 - mae: 0.4595 - val_loss: 0.6945 - val_mae: 0.6522\n",
      "Epoch 84/100\n",
      "337/337 - 0s - loss: 0.3396 - mae: 0.4566 - val_loss: 0.7029 - val_mae: 0.6481\n",
      "Epoch 85/100\n",
      "337/337 - 0s - loss: 0.3344 - mae: 0.4521 - val_loss: 0.7084 - val_mae: 0.6535\n",
      "Epoch 86/100\n",
      "337/337 - 0s - loss: 0.3359 - mae: 0.4553 - val_loss: 0.7063 - val_mae: 0.6546\n",
      "Epoch 87/100\n",
      "337/337 - 0s - loss: 0.3334 - mae: 0.4521 - val_loss: 0.7065 - val_mae: 0.6488\n",
      "Epoch 88/100\n",
      "337/337 - 0s - loss: 0.3332 - mae: 0.4543 - val_loss: 0.6953 - val_mae: 0.6550\n",
      "Epoch 89/100\n",
      "337/337 - 0s - loss: 0.3315 - mae: 0.4546 - val_loss: 0.7078 - val_mae: 0.6474\n",
      "Epoch 90/100\n",
      "337/337 - 0s - loss: 0.3371 - mae: 0.4514 - val_loss: 0.6970 - val_mae: 0.6503\n",
      "Epoch 91/100\n",
      "337/337 - 0s - loss: 0.3483 - mae: 0.4693 - val_loss: 0.7042 - val_mae: 0.6520\n",
      "Epoch 92/100\n",
      "337/337 - 0s - loss: 0.3403 - mae: 0.4537 - val_loss: 0.7304 - val_mae: 0.6556\n",
      "Epoch 93/100\n",
      "337/337 - 0s - loss: 0.3297 - mae: 0.4435 - val_loss: 0.7054 - val_mae: 0.6578\n",
      "Epoch 94/100\n",
      "337/337 - 0s - loss: 0.3305 - mae: 0.4484 - val_loss: 0.7103 - val_mae: 0.6490\n",
      "Epoch 95/100\n",
      "337/337 - 0s - loss: 0.3371 - mae: 0.4586 - val_loss: 0.7032 - val_mae: 0.6505\n",
      "Epoch 96/100\n",
      "337/337 - 0s - loss: 0.3359 - mae: 0.4489 - val_loss: 0.7102 - val_mae: 0.6451\n",
      "Epoch 97/100\n",
      "337/337 - 0s - loss: 0.3418 - mae: 0.4619 - val_loss: 0.6979 - val_mae: 0.6562\n",
      "Epoch 98/100\n",
      "337/337 - 0s - loss: 0.3280 - mae: 0.4441 - val_loss: 0.7082 - val_mae: 0.6415\n",
      "Epoch 99/100\n",
      "337/337 - 0s - loss: 0.3239 - mae: 0.4413 - val_loss: 0.6911 - val_mae: 0.6506\n",
      "Epoch 100/100\n",
      "337/337 - 0s - loss: 0.3222 - mae: 0.4456 - val_loss: 0.7077 - val_mae: 0.6464\n"
     ]
    }
   ],
   "source": [
    "# Train the model, with some of the data reserved for validation\n",
    "history = model.fit(train_data, train_targets, epochs = 100, validation_split = 0.15, \n",
    "                            batch_size = 64, verbose = 2)\n"
   ]
  },
  {
   "cell_type": "code",
   "execution_count": 10,
   "metadata": {},
   "outputs": [
    {
     "name": "stdout",
     "output_type": "stream",
     "text": [
      "45/1 - 0s - loss: 0.6149 - mae: 0.6277\n"
     ]
    },
    {
     "data": {
      "text/plain": [
       "[0.6424800250265333, 0.6277188]"
      ]
     },
     "execution_count": 10,
     "metadata": {},
     "output_type": "execute_result"
    }
   ],
   "source": [
    "# Evaluate the model on the test set\n",
    "model.evaluate(test_data, test_targets, verbose = 2)\n"
   ]
  },
  {
   "cell_type": "markdown",
   "metadata": {},
   "source": [
    "#### Plot the learning curves"
   ]
  },
  {
   "cell_type": "code",
   "execution_count": 11,
   "metadata": {},
   "outputs": [],
   "source": [
    "import matplotlib.pyplot as plt\n",
    "%matplotlib inline"
   ]
  },
  {
   "cell_type": "code",
   "execution_count": 12,
   "metadata": {},
   "outputs": [
    {
     "data": {
      "image/png": "[encoded data removed]",
      "text/plain": [
       "<Figure size 432x288 with 1 Axes>"
      ]
     },
     "metadata": {
      "needs_background": "light"
     },
     "output_type": "display_data"
    }
   ],
   "source": [
    "# Plot the training and validation loss\n",
    "\n",
    "plt.plot(history.history['loss'])\n",
    "plt.plot(history.history['val_loss'])\n",
    "plt.title('Loss vs. epochs')\n",
    "plt.ylabel('Loss')\n",
    "plt.xlabel('Epoch')\n",
    "plt.legend(['Training', 'Validation'], loc='upper right')\n",
    "plt.show()"
   ]
  },
  {
   "cell_type": "markdown",
   "metadata": {},
   "source": [
    "***\n",
    "<a id=\"coding_tutorial_2\"></a>\n",
    "## Model regularisation"
   ]
  },
  {
   "cell_type": "markdown",
   "metadata": {},
   "source": [
    "#### Adding regularisation with weight decay and dropout"
   ]
  },
  {
   "cell_type": "code",
   "execution_count": 8,
   "metadata": {},
   "outputs": [],
   "source": [
    "from tensorflow.keras.layers import Dropout\n",
    "from tensorflow.keras import regularizers"
   ]
  },
  {
   "cell_type": "code",
   "execution_count": 9,
   "metadata": {},
   "outputs": [],
   "source": [
    "def get_regularised_model(wd, rate):\n",
    "    model = Sequential([\n",
    "        Dense(128, activation = 'relu', input_shape = (train_data.shape[1], ), kernel_regularizer = regularizers.l2(wd)),\n",
    "        Dropout(rate),\n",
    "        Dense(64, activation='relu', kernel_regularizer = regularizers.l2(wd)),\n",
    "        Dropout(rate),\n",
    "        Dense(16, activation='relu', kernel_regularizer = regularizers.l2(wd)),\n",
    "        Dropout(rate),\n",
    "        Dense(1)\n",
    "    ])\n",
    "    return model"
   ]
  },
  {
   "cell_type": "code",
   "execution_count": 15,
   "metadata": {},
   "outputs": [],
   "source": [
    "# Re-build the model with weight decay and dropout layers\n",
    "model = get_regularised_model(wd = 1e-5, rate = 0.3)\n"
   ]
  },
  {
   "cell_type": "code",
   "execution_count": 16,
   "metadata": {},
   "outputs": [],
   "source": [
    "# Compile the model\n",
    "model.compile(optimizer = 'adam', loss = 'mse', metrics = ['mae'])\n"
   ]
  },
  {
   "cell_type": "code",
   "execution_count": 17,
   "metadata": {},
   "outputs": [
    {
     "name": "stdout",
     "output_type": "stream",
     "text": [
      "Train on 337 samples, validate on 60 samples\n",
      "Epoch 1/100\n",
      "337/337 - 1s - loss: 0.9692 - mae: 0.8462 - val_loss: 1.0494 - val_mae: 0.8506\n",
      "Epoch 2/100\n",
      "337/337 - 0s - loss: 0.9249 - mae: 0.8251 - val_loss: 1.0103 - val_mae: 0.8305\n",
      "Epoch 3/100\n",
      "337/337 - 0s - loss: 0.8766 - mae: 0.8025 - val_loss: 0.9620 - val_mae: 0.8093\n",
      "Epoch 4/100\n",
      "337/337 - 0s - loss: 0.8114 - mae: 0.7709 - val_loss: 0.9024 - val_mae: 0.7847\n",
      "Epoch 5/100\n",
      "337/337 - 0s - loss: 0.7532 - mae: 0.7475 - val_loss: 0.8460 - val_mae: 0.7629\n",
      "Epoch 6/100\n",
      "337/337 - 0s - loss: 0.6763 - mae: 0.6997 - val_loss: 0.7999 - val_mae: 0.7433\n",
      "Epoch 7/100\n",
      "337/337 - 0s - loss: 0.6306 - mae: 0.6767 - val_loss: 0.7666 - val_mae: 0.7279\n",
      "Epoch 8/100\n",
      "337/337 - 0s - loss: 0.6349 - mae: 0.6699 - val_loss: 0.7558 - val_mae: 0.7104\n",
      "Epoch 9/100\n",
      "337/337 - 0s - loss: 0.6022 - mae: 0.6444 - val_loss: 0.7468 - val_mae: 0.6959\n",
      "Epoch 10/100\n",
      "337/337 - 0s - loss: 0.5750 - mae: 0.6114 - val_loss: 0.7219 - val_mae: 0.6890\n",
      "Epoch 11/100\n",
      "337/337 - 0s - loss: 0.5846 - mae: 0.6324 - val_loss: 0.7104 - val_mae: 0.6835\n",
      "Epoch 12/100\n",
      "337/337 - 0s - loss: 0.5318 - mae: 0.6059 - val_loss: 0.6932 - val_mae: 0.6661\n",
      "Epoch 13/100\n",
      "337/337 - 0s - loss: 0.5246 - mae: 0.5854 - val_loss: 0.6873 - val_mae: 0.6614\n",
      "Epoch 14/100\n",
      "337/337 - 0s - loss: 0.5116 - mae: 0.5896 - val_loss: 0.6812 - val_mae: 0.6584\n",
      "Epoch 15/100\n",
      "337/337 - 0s - loss: 0.5384 - mae: 0.5963 - val_loss: 0.6842 - val_mae: 0.6575\n",
      "Epoch 16/100\n",
      "337/337 - 0s - loss: 0.5639 - mae: 0.6200 - val_loss: 0.6741 - val_mae: 0.6558\n",
      "Epoch 17/100\n",
      "337/337 - 0s - loss: 0.5413 - mae: 0.6153 - val_loss: 0.6716 - val_mae: 0.6549\n",
      "Epoch 18/100\n",
      "337/337 - 0s - loss: 0.5360 - mae: 0.6005 - val_loss: 0.6684 - val_mae: 0.6513\n",
      "Epoch 19/100\n",
      "337/337 - 0s - loss: 0.5313 - mae: 0.5977 - val_loss: 0.6689 - val_mae: 0.6458\n",
      "Epoch 20/100\n",
      "337/337 - 0s - loss: 0.5365 - mae: 0.6041 - val_loss: 0.6768 - val_mae: 0.6471\n",
      "Epoch 21/100\n",
      "337/337 - 0s - loss: 0.4965 - mae: 0.5737 - val_loss: 0.6633 - val_mae: 0.6384\n",
      "Epoch 22/100\n",
      "337/337 - 0s - loss: 0.5296 - mae: 0.5885 - val_loss: 0.6596 - val_mae: 0.6384\n",
      "Epoch 23/100\n",
      "337/337 - 0s - loss: 0.5132 - mae: 0.5919 - val_loss: 0.6566 - val_mae: 0.6359\n",
      "Epoch 24/100\n",
      "337/337 - 0s - loss: 0.4732 - mae: 0.5578 - val_loss: 0.6508 - val_mae: 0.6366\n",
      "Epoch 25/100\n",
      "337/337 - 0s - loss: 0.5070 - mae: 0.5858 - val_loss: 0.6437 - val_mae: 0.6327\n",
      "Epoch 26/100\n",
      "337/337 - 0s - loss: 0.4894 - mae: 0.5709 - val_loss: 0.6492 - val_mae: 0.6340\n",
      "Epoch 27/100\n",
      "337/337 - 0s - loss: 0.4964 - mae: 0.5679 - val_loss: 0.6454 - val_mae: 0.6311\n",
      "Epoch 28/100\n",
      "337/337 - 0s - loss: 0.5415 - mae: 0.6014 - val_loss: 0.6477 - val_mae: 0.6352\n",
      "Epoch 29/100\n",
      "337/337 - 0s - loss: 0.5064 - mae: 0.5832 - val_loss: 0.6535 - val_mae: 0.6397\n",
      "Epoch 30/100\n",
      "337/337 - 0s - loss: 0.5102 - mae: 0.5969 - val_loss: 0.6653 - val_mae: 0.6448\n",
      "Epoch 31/100\n",
      "337/337 - 0s - loss: 0.5270 - mae: 0.5930 - val_loss: 0.6403 - val_mae: 0.6345\n",
      "Epoch 32/100\n",
      "337/337 - 0s - loss: 0.4972 - mae: 0.5747 - val_loss: 0.6358 - val_mae: 0.6301\n",
      "Epoch 33/100\n",
      "337/337 - 0s - loss: 0.4808 - mae: 0.5675 - val_loss: 0.6369 - val_mae: 0.6251\n",
      "Epoch 34/100\n",
      "337/337 - 0s - loss: 0.4672 - mae: 0.5648 - val_loss: 0.6362 - val_mae: 0.6237\n",
      "Epoch 35/100\n",
      "337/337 - 0s - loss: 0.4971 - mae: 0.5805 - val_loss: 0.6328 - val_mae: 0.6233\n",
      "Epoch 36/100\n",
      "337/337 - 0s - loss: 0.4705 - mae: 0.5555 - val_loss: 0.6368 - val_mae: 0.6255\n",
      "Epoch 37/100\n",
      "337/337 - 0s - loss: 0.4824 - mae: 0.5781 - val_loss: 0.6440 - val_mae: 0.6313\n",
      "Epoch 38/100\n",
      "337/337 - 0s - loss: 0.4706 - mae: 0.5599 - val_loss: 0.6341 - val_mae: 0.6294\n",
      "Epoch 39/100\n",
      "337/337 - 0s - loss: 0.4850 - mae: 0.5713 - val_loss: 0.6289 - val_mae: 0.6287\n",
      "Epoch 40/100\n",
      "337/337 - 0s - loss: 0.4642 - mae: 0.5637 - val_loss: 0.6346 - val_mae: 0.6263\n",
      "Epoch 41/100\n",
      "337/337 - 0s - loss: 0.4873 - mae: 0.5776 - val_loss: 0.6477 - val_mae: 0.6291\n",
      "Epoch 42/100\n",
      "337/337 - 0s - loss: 0.4923 - mae: 0.5743 - val_loss: 0.6430 - val_mae: 0.6238\n",
      "Epoch 43/100\n",
      "337/337 - 0s - loss: 0.4757 - mae: 0.5629 - val_loss: 0.6372 - val_mae: 0.6237\n",
      "Epoch 44/100\n",
      "337/337 - 0s - loss: 0.4906 - mae: 0.5770 - val_loss: 0.6363 - val_mae: 0.6267\n",
      "Epoch 45/100\n",
      "337/337 - 0s - loss: 0.4606 - mae: 0.5510 - val_loss: 0.6248 - val_mae: 0.6217\n",
      "Epoch 46/100\n",
      "337/337 - 0s - loss: 0.5167 - mae: 0.5923 - val_loss: 0.6241 - val_mae: 0.6167\n",
      "Epoch 47/100\n",
      "337/337 - 0s - loss: 0.4460 - mae: 0.5436 - val_loss: 0.6381 - val_mae: 0.6215\n",
      "Epoch 48/100\n",
      "337/337 - 0s - loss: 0.4767 - mae: 0.5627 - val_loss: 0.6334 - val_mae: 0.6177\n",
      "Epoch 49/100\n",
      "337/337 - 0s - loss: 0.4565 - mae: 0.5581 - val_loss: 0.6291 - val_mae: 0.6159\n",
      "Epoch 50/100\n",
      "337/337 - 0s - loss: 0.4641 - mae: 0.5533 - val_loss: 0.6291 - val_mae: 0.6153\n",
      "Epoch 51/100\n",
      "337/337 - 0s - loss: 0.4807 - mae: 0.5766 - val_loss: 0.6207 - val_mae: 0.6118\n",
      "Epoch 52/100\n",
      "337/337 - 0s - loss: 0.4616 - mae: 0.5615 - val_loss: 0.6189 - val_mae: 0.6122\n",
      "Epoch 53/100\n",
      "337/337 - 0s - loss: 0.4906 - mae: 0.5767 - val_loss: 0.6258 - val_mae: 0.6141\n",
      "Epoch 54/100\n",
      "337/337 - 0s - loss: 0.4811 - mae: 0.5703 - val_loss: 0.6306 - val_mae: 0.6169\n",
      "Epoch 55/100\n",
      "337/337 - 0s - loss: 0.4485 - mae: 0.5414 - val_loss: 0.6282 - val_mae: 0.6154\n",
      "Epoch 56/100\n",
      "337/337 - 0s - loss: 0.4855 - mae: 0.5726 - val_loss: 0.6225 - val_mae: 0.6144\n",
      "Epoch 57/100\n",
      "337/337 - 0s - loss: 0.4684 - mae: 0.5575 - val_loss: 0.6238 - val_mae: 0.6156\n",
      "Epoch 58/100\n",
      "337/337 - 0s - loss: 0.4455 - mae: 0.5416 - val_loss: 0.6226 - val_mae: 0.6144\n",
      "Epoch 59/100\n",
      "337/337 - 0s - loss: 0.4625 - mae: 0.5503 - val_loss: 0.6242 - val_mae: 0.6135\n",
      "Epoch 60/100\n",
      "337/337 - 0s - loss: 0.4680 - mae: 0.5489 - val_loss: 0.6278 - val_mae: 0.6138\n",
      "Epoch 61/100\n",
      "337/337 - 0s - loss: 0.4650 - mae: 0.5557 - val_loss: 0.6291 - val_mae: 0.6156\n",
      "Epoch 62/100\n",
      "337/337 - 0s - loss: 0.4605 - mae: 0.5506 - val_loss: 0.6279 - val_mae: 0.6155\n",
      "Epoch 63/100\n",
      "337/337 - 0s - loss: 0.4624 - mae: 0.5488 - val_loss: 0.6243 - val_mae: 0.6153\n",
      "Epoch 64/100\n",
      "337/337 - 0s - loss: 0.4666 - mae: 0.5571 - val_loss: 0.6239 - val_mae: 0.6170\n",
      "Epoch 65/100\n",
      "337/337 - 0s - loss: 0.4479 - mae: 0.5524 - val_loss: 0.6300 - val_mae: 0.6145\n",
      "Epoch 66/100\n",
      "337/337 - 0s - loss: 0.4797 - mae: 0.5628 - val_loss: 0.6287 - val_mae: 0.6139\n",
      "Epoch 67/100\n",
      "337/337 - 0s - loss: 0.4483 - mae: 0.5433 - val_loss: 0.6213 - val_mae: 0.6136\n",
      "Epoch 68/100\n",
      "337/337 - 0s - loss: 0.4711 - mae: 0.5626 - val_loss: 0.6269 - val_mae: 0.6146\n",
      "Epoch 69/100\n",
      "337/337 - 0s - loss: 0.4385 - mae: 0.5399 - val_loss: 0.6336 - val_mae: 0.6163\n",
      "Epoch 70/100\n",
      "337/337 - 0s - loss: 0.4437 - mae: 0.5485 - val_loss: 0.6267 - val_mae: 0.6139\n",
      "Epoch 71/100\n",
      "337/337 - 0s - loss: 0.4299 - mae: 0.5234 - val_loss: 0.6226 - val_mae: 0.6135\n",
      "Epoch 72/100\n",
      "337/337 - 0s - loss: 0.4376 - mae: 0.5307 - val_loss: 0.6189 - val_mae: 0.6159\n",
      "Epoch 73/100\n",
      "337/337 - 0s - loss: 0.4449 - mae: 0.5413 - val_loss: 0.6232 - val_mae: 0.6125\n",
      "Epoch 74/100\n",
      "337/337 - 0s - loss: 0.4632 - mae: 0.5477 - val_loss: 0.6243 - val_mae: 0.6129\n",
      "Epoch 75/100\n",
      "337/337 - 0s - loss: 0.4344 - mae: 0.5411 - val_loss: 0.6189 - val_mae: 0.6125\n",
      "Epoch 76/100\n",
      "337/337 - 0s - loss: 0.4628 - mae: 0.5503 - val_loss: 0.6158 - val_mae: 0.6119\n",
      "Epoch 77/100\n",
      "337/337 - 0s - loss: 0.4231 - mae: 0.5279 - val_loss: 0.6232 - val_mae: 0.6117\n",
      "Epoch 78/100\n",
      "337/337 - 0s - loss: 0.4506 - mae: 0.5356 - val_loss: 0.6350 - val_mae: 0.6173\n",
      "Epoch 79/100\n",
      "337/337 - 0s - loss: 0.4276 - mae: 0.5243 - val_loss: 0.6258 - val_mae: 0.6148\n",
      "Epoch 80/100\n",
      "337/337 - 0s - loss: 0.4421 - mae: 0.5388 - val_loss: 0.6203 - val_mae: 0.6131\n",
      "Epoch 81/100\n",
      "337/337 - 0s - loss: 0.4402 - mae: 0.5428 - val_loss: 0.6304 - val_mae: 0.6162\n",
      "Epoch 82/100\n",
      "337/337 - 0s - loss: 0.4359 - mae: 0.5294 - val_loss: 0.6189 - val_mae: 0.6131\n",
      "Epoch 83/100\n",
      "337/337 - 0s - loss: 0.4417 - mae: 0.5389 - val_loss: 0.6133 - val_mae: 0.6126\n",
      "Epoch 84/100\n",
      "337/337 - 0s - loss: 0.4544 - mae: 0.5487 - val_loss: 0.6149 - val_mae: 0.6113\n",
      "Epoch 85/100\n",
      "337/337 - 0s - loss: 0.4575 - mae: 0.5443 - val_loss: 0.6306 - val_mae: 0.6147\n",
      "Epoch 86/100\n",
      "337/337 - 0s - loss: 0.4401 - mae: 0.5372 - val_loss: 0.6306 - val_mae: 0.6152\n",
      "Epoch 87/100\n",
      "337/337 - 0s - loss: 0.4432 - mae: 0.5388 - val_loss: 0.6253 - val_mae: 0.6129\n",
      "Epoch 88/100\n",
      "337/337 - 0s - loss: 0.4322 - mae: 0.5339 - val_loss: 0.6265 - val_mae: 0.6135\n",
      "Epoch 89/100\n",
      "337/337 - 0s - loss: 0.4126 - mae: 0.5237 - val_loss: 0.6275 - val_mae: 0.6156\n",
      "Epoch 90/100\n",
      "337/337 - 0s - loss: 0.4455 - mae: 0.5399 - val_loss: 0.6323 - val_mae: 0.6188\n",
      "Epoch 91/100\n",
      "337/337 - 0s - loss: 0.4283 - mae: 0.5276 - val_loss: 0.6491 - val_mae: 0.6241\n",
      "Epoch 92/100\n",
      "337/337 - 0s - loss: 0.4082 - mae: 0.5030 - val_loss: 0.6307 - val_mae: 0.6173\n",
      "Epoch 93/100\n",
      "337/337 - 0s - loss: 0.4224 - mae: 0.5308 - val_loss: 0.6275 - val_mae: 0.6184\n",
      "Epoch 94/100\n",
      "337/337 - 0s - loss: 0.4239 - mae: 0.5329 - val_loss: 0.6378 - val_mae: 0.6230\n",
      "Epoch 95/100\n",
      "337/337 - 0s - loss: 0.4528 - mae: 0.5478 - val_loss: 0.6389 - val_mae: 0.6230\n",
      "Epoch 96/100\n",
      "337/337 - 0s - loss: 0.4616 - mae: 0.5452 - val_loss: 0.6359 - val_mae: 0.6200\n",
      "Epoch 97/100\n",
      "337/337 - 0s - loss: 0.4163 - mae: 0.5321 - val_loss: 0.6341 - val_mae: 0.6196\n",
      "Epoch 98/100\n",
      "337/337 - 0s - loss: 0.4100 - mae: 0.5174 - val_loss: 0.6392 - val_mae: 0.6214\n",
      "Epoch 99/100\n",
      "337/337 - 0s - loss: 0.4187 - mae: 0.5255 - val_loss: 0.6320 - val_mae: 0.6141\n",
      "Epoch 100/100\n",
      "337/337 - 0s - loss: 0.4323 - mae: 0.5324 - val_loss: 0.6319 - val_mae: 0.6120\n"
     ]
    }
   ],
   "source": [
    "# Train the model, with some of the data reserved for validation\n",
    "history = model.fit(train_data, train_targets, epochs = 100, \n",
    "                           validation_split = 0.15, batch_size = 64, verbose = 2)\n"
   ]
  },
  {
   "cell_type": "code",
   "execution_count": 18,
   "metadata": {},
   "outputs": [
    {
     "name": "stdout",
     "output_type": "stream",
     "text": [
      "45/1 - 0s - loss: 0.5950 - mae: 0.6008\n"
     ]
    },
    {
     "data": {
      "text/plain": [
       "[0.5838679790496826, 0.60075176]"
      ]
     },
     "execution_count": 18,
     "metadata": {},
     "output_type": "execute_result"
    }
   ],
   "source": [
    "# Evaluate the model on the test set\n",
    "model.evaluate(test_data, test_targets, verbose = 2)\n"
   ]
  },
  {
   "cell_type": "markdown",
   "metadata": {},
   "source": [
    "#### Plot the learning curves"
   ]
  },
  {
   "cell_type": "code",
   "execution_count": 19,
   "metadata": {},
   "outputs": [
    {
     "data": {
      "image/png": "[encoded data removed]",
      "text/plain": [
       "<Figure size 432x288 with 1 Axes>"
      ]
     },
     "metadata": {
      "needs_background": "light"
     },
     "output_type": "display_data"
    }
   ],
   "source": [
    "# Plot the training and validation loss\n",
    "\n",
    "import matplotlib.pyplot as plt\n",
    "\n",
    "plt.plot(history.history['loss'])\n",
    "plt.plot(history.history['val_loss'])\n",
    "plt.title('Loss vs. epochs')\n",
    "plt.ylabel('Loss')\n",
    "plt.xlabel('Epoch')\n",
    "plt.legend(['Training', 'Validation'], loc='upper right')\n",
    "plt.show()"
   ]
  },
  {
   "cell_type": "markdown",
   "metadata": {},
   "source": [
    "***\n",
    "<a id=\"coding_tutorial_3\"></a>\n",
    "## Introduction to callbacks"
   ]
  },
  {
   "cell_type": "markdown",
   "metadata": {},
   "source": [
    "#### Example training callback"
   ]
  },
  {
   "cell_type": "code",
   "execution_count": 20,
   "metadata": {},
   "outputs": [],
   "source": [
    "# Write a custom callback\n",
    "from tensorflow.keras.callbacks import Callback\n",
    "\n",
    "class TrainingCallback(Callback):\n",
    "    \n",
    "    def on_train_begin(self, logs = None):\n",
    "        print('...... Start training .......')\n",
    "        \n",
    "    def on_epoch_begin(self, epoch, logs = None):\n",
    "        print('Starting epoch ', epoch)\n",
    "    \n",
    "    def on_train_batch_begin(self, batch, logs = None):\n",
    "        print('\\t Starting batch ', batch)\n",
    "    \n",
    "    def on_train_batch_end(self, batch, logs = None):\n",
    "        print('\\t Finished batch', batch)\n",
    "        \n",
    "    def on_epoch_end(self, epoch, logs = None):\n",
    "        print('Finished epoch')\n",
    "    \n",
    "    def on_train_end(self, logs = None):\n",
    "        print('....... End training ........')\n"
   ]
  },
  {
   "cell_type": "code",
   "execution_count": 22,
   "metadata": {},
   "outputs": [],
   "source": [
    "# Re-build the model\n",
    "model = get_regularised_model(wd = 1e-5, rate = 0.3)\n"
   ]
  },
  {
   "cell_type": "code",
   "execution_count": 23,
   "metadata": {},
   "outputs": [],
   "source": [
    "# Compile the model\n",
    "model.compile(optimizer = 'adam', loss = 'mse', metrics = ['mae'])\n"
   ]
  },
  {
   "cell_type": "markdown",
   "metadata": {},
   "source": [
    "#### Train the model with the callback"
   ]
  },
  {
   "cell_type": "code",
   "execution_count": 25,
   "metadata": {},
   "outputs": [
    {
     "name": "stdout",
     "output_type": "stream",
     "text": [
      "Train on 397 samples\n",
      "...... Start training .......\n",
      "Starting epoch  0\n",
      "Epoch 1/2\n",
      "\t Starting batch  0\n",
      "\t Finished batch 0\n",
      "128/397 [========>.....................] - ETA: 2s - loss: 0.9201 - mae: 0.8095\t Starting batch  1\n",
      "\t Finished batch 1\n",
      "\t Starting batch  2\n",
      "\t Finished batch 2\n",
      "\t Starting batch  3\n",
      "\t Finished batch 3\n",
      "Finished epoch\n",
      "397/397 [==============================] - 1s 3ms/sample - loss: 0.9960 - mae: 0.8533\n",
      "Starting epoch  1\n",
      "Epoch 2/2\n",
      "\t Starting batch  0\n",
      "\t Finished batch 0\n",
      "128/397 [========>.....................] - ETA: 0s - loss: 0.9978 - mae: 0.8567\t Starting batch  1\n",
      "\t Finished batch 1\n",
      "\t Starting batch  2\n",
      "\t Finished batch 2\n",
      "\t Starting batch  3\n",
      "\t Finished batch 3\n",
      "Finished epoch\n",
      "397/397 [==============================] - 0s 29us/sample - loss: 0.9816 - mae: 0.8472\n",
      "....... End training ........\n"
     ]
    },
    {
     "data": {
      "text/plain": [
       "<tensorflow.python.keras.callbacks.History at 0x7f37386a8550>"
      ]
     },
     "execution_count": 25,
     "metadata": {},
     "output_type": "execute_result"
    }
   ],
   "source": [
    "# Train the model, with some of the data reserved for validation\n",
    "model.fit(train_data, train_targets, epochs = 2, batch_size = 128, callbacks = [TrainingCallback()])\n"
   ]
  },
  {
   "cell_type": "code",
   "execution_count": 28,
   "metadata": {},
   "outputs": [
    {
     "name": "stdout",
     "output_type": "stream",
     "text": [
      "........ Start testing ........\n",
      "\t Starting batch\n",
      "\t Finished batch\n",
      "\t Starting batch\n",
      "\t Finished batch\n",
      "45/1 - 0s - loss: 0.8869 - mae: 0.8245\n",
      "..... End testing .......\n"
     ]
    },
    {
     "data": {
      "text/plain": [
       "[0.9571111732059054, 0.8245286]"
      ]
     },
     "execution_count": 28,
     "metadata": {},
     "output_type": "execute_result"
    }
   ],
   "source": [
    "# Evaluate the model\n",
    "class TestingCallback(Callback):\n",
    "    \n",
    "    def on_test_begin(self, logs = None):\n",
    "        print('........ Start testing ........')\n",
    "    \n",
    "    def on_test_batch_begin(self, batch, logs = None):\n",
    "        print('\\t Starting batch')\n",
    "    \n",
    "    def on_test_batch_end(self, batch, logs = None):\n",
    "        print('\\t Finished batch')\n",
    "    \n",
    "    def on_test_end(self, logs = None):\n",
    "        print('..... End testing .......')\n",
    "\n",
    "model.evaluate(test_data, test_targets, verbose = 2, callbacks = [TestingCallback()])        "
   ]
  },
  {
   "cell_type": "code",
   "execution_count": 30,
   "metadata": {},
   "outputs": [
    {
     "name": "stdout",
     "output_type": "stream",
     "text": [
      "..... Start prediction ......\n",
      "\t Starting batch  0\n",
      "\t Finishing batch  0\n",
      "\t Starting batch  1\n",
      "\t Finishing batch  1\n",
      "...... End prediction .......\n"
     ]
    },
    {
     "data": {
      "text/plain": [
       "array([[ 0.00433877],\n",
       "       [-0.01777761],\n",
       "       [ 0.06010732],\n",
       "       [-0.03390782],\n",
       "       [-0.02373301],\n",
       "       [ 0.07767402],\n",
       "       [-0.00167221],\n",
       "       [-0.00347514],\n",
       "       [-0.01407206],\n",
       "       [ 0.05968182],\n",
       "       [ 0.0655968 ],\n",
       "       [-0.03374614],\n",
       "       [-0.01099645],\n",
       "       [ 0.04375353],\n",
       "       [ 0.06103193],\n",
       "       [-0.02430987],\n",
       "       [ 0.03179593],\n",
       "       [ 0.02093973],\n",
       "       [-0.0256697 ],\n",
       "       [ 0.00566917],\n",
       "       [ 0.0284248 ],\n",
       "       [ 0.07721781],\n",
       "       [ 0.04418122],\n",
       "       [ 0.02958088],\n",
       "       [ 0.01647894],\n",
       "       [ 0.06688327],\n",
       "       [-0.03621586],\n",
       "       [-0.00362249],\n",
       "       [-0.02287805],\n",
       "       [ 0.01757196],\n",
       "       [-0.01498775],\n",
       "       [-0.02625222],\n",
       "       [ 0.04791849],\n",
       "       [-0.02672683],\n",
       "       [-0.01930223],\n",
       "       [-0.0087498 ],\n",
       "       [ 0.01819121],\n",
       "       [ 0.03932822],\n",
       "       [-0.01132534],\n",
       "       [ 0.01338506],\n",
       "       [ 0.01549018],\n",
       "       [-0.00234938],\n",
       "       [-0.02639992],\n",
       "       [ 0.06876606],\n",
       "       [-0.0214993 ]], dtype=float32)"
      ]
     },
     "execution_count": 30,
     "metadata": {},
     "output_type": "execute_result"
    }
   ],
   "source": [
    "# Make predictions with the model\n",
    "class PredictionCallback(Callback):\n",
    "    \n",
    "    def on_predict_begin(self, logs = None):\n",
    "        print('..... Start prediction ......')\n",
    "    \n",
    "    def on_predict_batch_begin(self, batch, logs = None):\n",
    "        print('\\t Starting batch ', batch)\n",
    "    \n",
    "    def on_predict_batch_end(self, batch, logs = None):\n",
    "        print('\\t Finishing batch ', batch)\n",
    "    \n",
    "    def on_predict_end(self, logs = None):\n",
    "        print('...... End prediction .......')\n",
    "\n",
    "model.predict(test_data, callbacks = [PredictionCallback()])        "
   ]
  },
  {
   "cell_type": "markdown",
   "metadata": {},
   "source": [
    "***\n",
    "<a id=\"coding_tutorial_4\"></a>\n",
    "## Early stopping / patience"
   ]
  },
  {
   "cell_type": "markdown",
   "metadata": {},
   "source": [
    "#### Re-train the models with early stopping"
   ]
  },
  {
   "cell_type": "code",
   "execution_count": 18,
   "metadata": {},
   "outputs": [
    {
     "name": "stdout",
     "output_type": "stream",
     "text": [
      "Train on 337 samples, validate on 60 samples\n",
      "Epoch 1/100\n",
      "337/337 - 1s - loss: 0.9050 - val_loss: 1.1058\n",
      "Epoch 2/100\n",
      "337/337 - 0s - loss: 0.8623 - val_loss: 1.0284\n",
      "Epoch 3/100\n",
      "337/337 - 0s - loss: 0.8173 - val_loss: 0.9367\n",
      "Epoch 4/100\n",
      "337/337 - 0s - loss: 0.7705 - val_loss: 0.8415\n",
      "Epoch 5/100\n",
      "337/337 - 0s - loss: 0.7088 - val_loss: 0.7784\n",
      "Epoch 6/100\n",
      "337/337 - 0s - loss: 0.6464 - val_loss: 0.6501\n",
      "Epoch 7/100\n",
      "337/337 - 0s - loss: 0.5891 - val_loss: 0.5581\n",
      "Epoch 8/100\n",
      "337/337 - 0s - loss: 0.5382 - val_loss: 0.5133\n",
      "Epoch 9/100\n",
      "337/337 - 0s - loss: 0.5154 - val_loss: 0.4387\n",
      "Epoch 10/100\n",
      "337/337 - 0s - loss: 0.4973 - val_loss: 0.4634\n",
      "Epoch 11/100\n",
      "337/337 - 0s - loss: 0.4943 - val_loss: 0.4223\n",
      "Epoch 12/100\n",
      "337/337 - 0s - loss: 0.4837 - val_loss: 0.3816\n",
      "Epoch 13/100\n",
      "337/337 - 0s - loss: 0.4837 - val_loss: 0.3940\n",
      "Epoch 14/100\n",
      "337/337 - 0s - loss: 0.4772 - val_loss: 0.4140\n",
      "Epoch 15/100\n",
      "337/337 - 0s - loss: 0.4742 - val_loss: 0.3686\n",
      "Epoch 16/100\n",
      "337/337 - 0s - loss: 0.4736 - val_loss: 0.4248\n",
      "Epoch 17/100\n",
      "337/337 - 0s - loss: 0.4809 - val_loss: 0.4395\n",
      "Epoch 18/100\n",
      "337/337 - 0s - loss: 0.4744 - val_loss: 0.3691\n",
      "Epoch 19/100\n",
      "337/337 - 0s - loss: 0.4683 - val_loss: 0.4226\n",
      "Epoch 20/100\n",
      "337/337 - 0s - loss: 0.4657 - val_loss: 0.4042\n",
      "Epoch 21/100\n",
      "337/337 - 0s - loss: 0.4709 - val_loss: 0.3824\n",
      "Epoch 22/100\n",
      "337/337 - 0s - loss: 0.4599 - val_loss: 0.4404\n",
      "Epoch 23/100\n",
      "337/337 - 0s - loss: 0.4623 - val_loss: 0.4025\n",
      "Epoch 24/100\n",
      "337/337 - 0s - loss: 0.4548 - val_loss: 0.3875\n",
      "Epoch 25/100\n",
      "337/337 - 0s - loss: 0.4548 - val_loss: 0.4073\n"
     ]
    }
   ],
   "source": [
    "# Re-train the unregularised model\n",
    "unreg_model = get_model()\n",
    "unreg_model.compile(optimizer = 'adam', loss = 'mse')\n",
    "unreg_history = unreg_model.fit(train_data, train_targets, epochs = 100, \n",
    "                                   validation_split = 0.15, batch_size = 64, verbose = 2, \n",
    "                                   callbacks = [tf.keras.callbacks.EarlyStopping(patience = 10)])\n"
   ]
  },
  {
   "cell_type": "code",
   "execution_count": 19,
   "metadata": {},
   "outputs": [
    {
     "name": "stdout",
     "output_type": "stream",
     "text": [
      "45/1 - 0s - loss: 0.5357\n"
     ]
    },
    {
     "data": {
      "text/plain": [
       "0.5357096195220947"
      ]
     },
     "execution_count": 19,
     "metadata": {},
     "output_type": "execute_result"
    }
   ],
   "source": [
    "# Evaluate the model on the test set\n",
    "unreg_model.evaluate(test_data, test_targets, batch_size = 64, verbose = 2)\n"
   ]
  },
  {
   "cell_type": "code",
   "execution_count": 20,
   "metadata": {},
   "outputs": [
    {
     "name": "stdout",
     "output_type": "stream",
     "text": [
      "Train on 337 samples, validate on 60 samples\n",
      "Epoch 1/100\n",
      "337/337 - 1s - loss: 0.9084 - val_loss: 1.1510\n",
      "Epoch 2/100\n",
      "337/337 - 0s - loss: 0.8899 - val_loss: 1.1146\n",
      "Epoch 3/100\n",
      "337/337 - 0s - loss: 0.8627 - val_loss: 1.0709\n",
      "Epoch 4/100\n",
      "337/337 - 0s - loss: 0.8310 - val_loss: 1.0123\n",
      "Epoch 5/100\n",
      "337/337 - 0s - loss: 0.7949 - val_loss: 0.9539\n",
      "Epoch 6/100\n",
      "337/337 - 0s - loss: 0.7690 - val_loss: 0.8889\n",
      "Epoch 7/100\n",
      "337/337 - 0s - loss: 0.7030 - val_loss: 0.8122\n",
      "Epoch 8/100\n",
      "337/337 - 0s - loss: 0.6849 - val_loss: 0.7283\n",
      "Epoch 9/100\n",
      "337/337 - 0s - loss: 0.6354 - val_loss: 0.6506\n",
      "Epoch 10/100\n",
      "337/337 - 0s - loss: 0.6218 - val_loss: 0.6063\n",
      "Epoch 11/100\n",
      "337/337 - 0s - loss: 0.6177 - val_loss: 0.6051\n",
      "Epoch 12/100\n",
      "337/337 - 0s - loss: 0.5852 - val_loss: 0.5656\n",
      "Epoch 13/100\n",
      "337/337 - 0s - loss: 0.6061 - val_loss: 0.5045\n",
      "Epoch 14/100\n",
      "337/337 - 0s - loss: 0.5816 - val_loss: 0.4931\n",
      "Epoch 15/100\n",
      "337/337 - 0s - loss: 0.5887 - val_loss: 0.5231\n",
      "Epoch 16/100\n",
      "337/337 - 0s - loss: 0.5616 - val_loss: 0.4874\n",
      "Epoch 17/100\n",
      "337/337 - 0s - loss: 0.5474 - val_loss: 0.4729\n",
      "Epoch 18/100\n",
      "337/337 - 0s - loss: 0.5623 - val_loss: 0.4922\n",
      "Epoch 19/100\n",
      "337/337 - 0s - loss: 0.5464 - val_loss: 0.4884\n",
      "Epoch 20/100\n",
      "337/337 - 0s - loss: 0.5766 - val_loss: 0.4946\n",
      "Epoch 21/100\n",
      "337/337 - 0s - loss: 0.5353 - val_loss: 0.4985\n",
      "Epoch 22/100\n",
      "337/337 - 0s - loss: 0.5442 - val_loss: 0.4594\n",
      "Epoch 23/100\n",
      "337/337 - 0s - loss: 0.5565 - val_loss: 0.4467\n",
      "Epoch 24/100\n",
      "337/337 - 0s - loss: 0.5678 - val_loss: 0.4703\n",
      "Epoch 25/100\n",
      "337/337 - 0s - loss: 0.5230 - val_loss: 0.4581\n",
      "Epoch 26/100\n",
      "337/337 - 0s - loss: 0.5446 - val_loss: 0.4402\n",
      "Epoch 27/100\n",
      "337/337 - 0s - loss: 0.5456 - val_loss: 0.4624\n",
      "Epoch 28/100\n",
      "337/337 - 0s - loss: 0.4994 - val_loss: 0.4550\n",
      "Epoch 29/100\n",
      "337/337 - 0s - loss: 0.5183 - val_loss: 0.4459\n",
      "Epoch 30/100\n",
      "337/337 - 0s - loss: 0.5103 - val_loss: 0.4484\n",
      "Epoch 31/100\n",
      "337/337 - 0s - loss: 0.5253 - val_loss: 0.4316\n",
      "Epoch 32/100\n",
      "337/337 - 0s - loss: 0.5114 - val_loss: 0.4418\n",
      "Epoch 33/100\n",
      "337/337 - 0s - loss: 0.5261 - val_loss: 0.4708\n",
      "Epoch 34/100\n",
      "337/337 - 0s - loss: 0.4894 - val_loss: 0.4495\n",
      "Epoch 35/100\n",
      "337/337 - 0s - loss: 0.5027 - val_loss: 0.4483\n",
      "Epoch 36/100\n",
      "337/337 - 0s - loss: 0.5288 - val_loss: 0.4451\n",
      "Epoch 37/100\n",
      "337/337 - 0s - loss: 0.5031 - val_loss: 0.4452\n",
      "Epoch 38/100\n",
      "337/337 - 0s - loss: 0.5013 - val_loss: 0.4539\n",
      "Epoch 39/100\n",
      "337/337 - 0s - loss: 0.5086 - val_loss: 0.4300\n",
      "Epoch 40/100\n",
      "337/337 - 0s - loss: 0.5354 - val_loss: 0.4266\n",
      "Epoch 41/100\n",
      "337/337 - 0s - loss: 0.4889 - val_loss: 0.4339\n",
      "Epoch 42/100\n",
      "337/337 - 0s - loss: 0.4803 - val_loss: 0.4342\n",
      "Epoch 43/100\n",
      "337/337 - 0s - loss: 0.4803 - val_loss: 0.4244\n",
      "Epoch 44/100\n",
      "337/337 - 0s - loss: 0.5172 - val_loss: 0.4334\n",
      "Epoch 45/100\n",
      "337/337 - 0s - loss: 0.5173 - val_loss: 0.4457\n",
      "Epoch 46/100\n",
      "337/337 - 0s - loss: 0.5327 - val_loss: 0.4464\n",
      "Epoch 47/100\n",
      "337/337 - 0s - loss: 0.5118 - val_loss: 0.4201\n",
      "Epoch 48/100\n",
      "337/337 - 0s - loss: 0.5174 - val_loss: 0.4179\n",
      "Epoch 49/100\n",
      "337/337 - 0s - loss: 0.4829 - val_loss: 0.4357\n",
      "Epoch 50/100\n",
      "337/337 - 0s - loss: 0.5177 - val_loss: 0.4223\n",
      "Epoch 51/100\n",
      "337/337 - 0s - loss: 0.4720 - val_loss: 0.4257\n",
      "Epoch 52/100\n",
      "337/337 - 0s - loss: 0.4618 - val_loss: 0.4280\n",
      "Epoch 53/100\n",
      "337/337 - 0s - loss: 0.4898 - val_loss: 0.4261\n",
      "Epoch 54/100\n",
      "337/337 - 0s - loss: 0.4972 - val_loss: 0.4241\n",
      "Epoch 55/100\n",
      "337/337 - 0s - loss: 0.4865 - val_loss: 0.4242\n",
      "Epoch 56/100\n",
      "337/337 - 0s - loss: 0.4758 - val_loss: 0.4077\n",
      "Epoch 57/100\n",
      "337/337 - 0s - loss: 0.4938 - val_loss: 0.4173\n",
      "Epoch 58/100\n",
      "337/337 - 0s - loss: 0.4842 - val_loss: 0.4098\n",
      "Epoch 59/100\n",
      "337/337 - 0s - loss: 0.4926 - val_loss: 0.3899\n",
      "Epoch 60/100\n",
      "337/337 - 0s - loss: 0.4761 - val_loss: 0.4010\n",
      "Epoch 61/100\n",
      "337/337 - 0s - loss: 0.4738 - val_loss: 0.4212\n",
      "Epoch 62/100\n",
      "337/337 - 0s - loss: 0.4715 - val_loss: 0.4766\n",
      "Epoch 63/100\n",
      "337/337 - 0s - loss: 0.5210 - val_loss: 0.4220\n",
      "Epoch 64/100\n",
      "337/337 - 0s - loss: 0.4626 - val_loss: 0.3972\n",
      "Epoch 65/100\n",
      "337/337 - 0s - loss: 0.4867 - val_loss: 0.4144\n",
      "Epoch 66/100\n",
      "337/337 - 0s - loss: 0.4605 - val_loss: 0.4398\n",
      "Epoch 67/100\n",
      "337/337 - 0s - loss: 0.4833 - val_loss: 0.4310\n",
      "Epoch 68/100\n",
      "337/337 - 0s - loss: 0.4717 - val_loss: 0.4181\n",
      "Epoch 69/100\n",
      "337/337 - 0s - loss: 0.4842 - val_loss: 0.4196\n"
     ]
    }
   ],
   "source": [
    "# Re-train the regularised model\n",
    "reg_model = get_regularised_model(wd = 1e-6, rate = 0.3)\n",
    "reg_model.compile(optimizer = 'adam', loss = 'mse')\n",
    "reg_history = reg_model.fit(train_data, train_targets, epochs = 100, \n",
    "                               validation_split = 0.15, batch_size = 64, verbose = 2,\n",
    "                               callbacks = [tf.keras.callbacks.EarlyStopping(patience = 10)])"
   ]
  },
  {
   "cell_type": "code",
   "execution_count": 21,
   "metadata": {},
   "outputs": [
    {
     "name": "stdout",
     "output_type": "stream",
     "text": [
      "45/1 - 0s - loss: 0.5728\n"
     ]
    },
    {
     "data": {
      "text/plain": [
       "0.572799026966095"
      ]
     },
     "execution_count": 21,
     "metadata": {},
     "output_type": "execute_result"
    }
   ],
   "source": [
    "# Evaluate the model on the test set\n",
    "reg_model.evaluate(test_data, test_targets, batch_size = 64, verbose = 2)\n"
   ]
  },
  {
   "cell_type": "markdown",
   "metadata": {},
   "source": [
    "#### Plot the learning curves"
   ]
  },
  {
   "cell_type": "code",
   "execution_count": 22,
   "metadata": {},
   "outputs": [
    {
     "data": {
      "image/png": "[encoded data removed]",
      "text/plain": [
       "<Figure size 864x360 with 2 Axes>"
      ]
     },
     "metadata": {
      "needs_background": "light"
     },
     "output_type": "display_data"
    }
   ],
   "source": [
    "# Plot the training and validation loss\n",
    "\n",
    "import matplotlib.pyplot as plt\n",
    "\n",
    "fig = plt.figure(figsize=(12, 5))\n",
    "\n",
    "fig.add_subplot(121)\n",
    "\n",
    "plt.plot(unreg_history.history['loss'])\n",
    "plt.plot(unreg_history.history['val_loss'])\n",
    "plt.title('Unregularised model: loss vs. epochs')\n",
    "plt.ylabel('Loss')\n",
    "plt.xlabel('Epoch')\n",
    "plt.legend(['Training', 'Validation'], loc='upper right')\n",
    "\n",
    "fig.add_subplot(122)\n",
    "\n",
    "plt.plot(reg_history.history['loss'])\n",
    "plt.plot(reg_history.history['val_loss'])\n",
    "plt.title('Regularised model: loss vs. epochs')\n",
    "plt.ylabel('Loss')\n",
    "plt.xlabel('Epoch')\n",
    "plt.legend(['Training', 'Validation'], loc='upper right')\n",
    "\n",
    "plt.show()"
   ]
  }
 ],
 "metadata": {
  "kernelspec": {
   "display_name": "Python 3",
   "language": "python",
   "name": "python3"
  },
  "language_info": {
   "codemirror_mode": {
    "name": "ipython",
    "version": 3
   },
   "file_extension": ".py",
   "mimetype": "text/x-python",
   "name": "python",
   "nbconvert_exporter": "python",
   "pygments_lexer": "ipython3",
   "version": "3.7.1"
  }
 },
 "nbformat": 4,
 "nbformat_minor": 2
}
